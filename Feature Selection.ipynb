{
 "cells": [
  {
   "cell_type": "markdown",
   "metadata": {},
   "source": [
    "This notebook finds the features from `listings.csv` that are most correlated with the rating. (See end of notebook for list of these features.)"
   ]
  },
  {
   "cell_type": "code",
   "execution_count": 1,
   "metadata": {},
   "outputs": [],
   "source": [
    "# TODO: better preprocessing of binary features"
   ]
  },
  {
   "cell_type": "code",
   "execution_count": 2,
   "metadata": {},
   "outputs": [],
   "source": [
    "import pandas as pd\n",
    "import numpy as np\n",
    "import sklearn\n",
    "import sklearn.preprocessing\n",
    "import re\n",
    "import pickle"
   ]
  },
  {
   "cell_type": "code",
   "execution_count": 3,
   "metadata": {},
   "outputs": [
    {
     "name": "stderr",
     "output_type": "stream",
     "text": [
      "/Users/ChentianJiang/miniconda3/envs/cs317/lib/python3.7/site-packages/IPython/core/interactiveshell.py:2785: DtypeWarning: Columns (43,87,88) have mixed types. Specify dtype option on import or set low_memory=False.\n",
      "  interactivity=interactivity, compiler=compiler, result=result)\n"
     ]
    },
    {
     "data": {
      "text/plain": [
       "(50914, 96)"
      ]
     },
     "execution_count": 3,
     "metadata": {},
     "output_type": "execute_result"
    }
   ],
   "source": [
    "train = pd.read_csv('data/listings.csv')\n",
    "\n",
    "train.shape"
   ]
  },
  {
   "cell_type": "code",
   "execution_count": 4,
   "metadata": {},
   "outputs": [
    {
     "data": {
      "text/html": [
       "<div>\n",
       "<style scoped>\n",
       "    .dataframe tbody tr th:only-of-type {\n",
       "        vertical-align: middle;\n",
       "    }\n",
       "\n",
       "    .dataframe tbody tr th {\n",
       "        vertical-align: top;\n",
       "    }\n",
       "\n",
       "    .dataframe thead th {\n",
       "        text-align: right;\n",
       "    }\n",
       "</style>\n",
       "<table border=\"1\" class=\"dataframe\">\n",
       "  <thead>\n",
       "    <tr style=\"text-align: right;\">\n",
       "      <th></th>\n",
       "      <th>id</th>\n",
       "      <th>listing_url</th>\n",
       "      <th>scrape_id</th>\n",
       "      <th>last_scraped</th>\n",
       "      <th>name</th>\n",
       "      <th>summary</th>\n",
       "      <th>space</th>\n",
       "      <th>description</th>\n",
       "      <th>experiences_offered</th>\n",
       "      <th>neighborhood_overview</th>\n",
       "      <th>...</th>\n",
       "      <th>requires_license</th>\n",
       "      <th>license</th>\n",
       "      <th>jurisdiction_names</th>\n",
       "      <th>instant_bookable</th>\n",
       "      <th>is_business_travel_ready</th>\n",
       "      <th>cancellation_policy</th>\n",
       "      <th>require_guest_profile_picture</th>\n",
       "      <th>require_guest_phone_verification</th>\n",
       "      <th>calculated_host_listings_count</th>\n",
       "      <th>reviews_per_month</th>\n",
       "    </tr>\n",
       "  </thead>\n",
       "  <tbody>\n",
       "    <tr>\n",
       "      <th>0</th>\n",
       "      <td>2515</td>\n",
       "      <td>https://www.airbnb.com/rooms/2515</td>\n",
       "      <td>20180806171147</td>\n",
       "      <td>2018-08-07</td>\n",
       "      <td>Stay at Chez Chic budget room #1</td>\n",
       "      <td>Step into our artistic spacious apartment and ...</td>\n",
       "      <td>-PLEASE BOOK DIRECTLY. NO NEED TO SEND A REQUE...</td>\n",
       "      <td>Step into our artistic spacious apartment and ...</td>\n",
       "      <td>none</td>\n",
       "      <td>NaN</td>\n",
       "      <td>...</td>\n",
       "      <td>f</td>\n",
       "      <td>NaN</td>\n",
       "      <td>NaN</td>\n",
       "      <td>f</td>\n",
       "      <td>f</td>\n",
       "      <td>strict_14_with_grace_period</td>\n",
       "      <td>f</td>\n",
       "      <td>f</td>\n",
       "      <td>3</td>\n",
       "      <td>1.42</td>\n",
       "    </tr>\n",
       "    <tr>\n",
       "      <th>1</th>\n",
       "      <td>2539</td>\n",
       "      <td>https://www.airbnb.com/rooms/2539</td>\n",
       "      <td>20180806171147</td>\n",
       "      <td>2018-08-07</td>\n",
       "      <td>Clean &amp; quiet apt home by the park</td>\n",
       "      <td>Renovated apt home in elevator building.</td>\n",
       "      <td>Spacious, renovated, and clean apt home, one b...</td>\n",
       "      <td>Renovated apt home in elevator building. Spaci...</td>\n",
       "      <td>none</td>\n",
       "      <td>Close to Prospect Park and Historic Ditmas Park</td>\n",
       "      <td>...</td>\n",
       "      <td>f</td>\n",
       "      <td>NaN</td>\n",
       "      <td>NaN</td>\n",
       "      <td>f</td>\n",
       "      <td>f</td>\n",
       "      <td>moderate</td>\n",
       "      <td>f</td>\n",
       "      <td>f</td>\n",
       "      <td>9</td>\n",
       "      <td>0.25</td>\n",
       "    </tr>\n",
       "    <tr>\n",
       "      <th>2</th>\n",
       "      <td>2595</td>\n",
       "      <td>https://www.airbnb.com/rooms/2595</td>\n",
       "      <td>20180806171147</td>\n",
       "      <td>2018-08-07</td>\n",
       "      <td>Skylit Midtown Castle</td>\n",
       "      <td>Find your romantic getaway to this beautiful, ...</td>\n",
       "      <td>- Spacious (500+ft²), immaculate and nicely fu...</td>\n",
       "      <td>Find your romantic getaway to this beautiful, ...</td>\n",
       "      <td>none</td>\n",
       "      <td>Centrally located in the heart of Manhattan ju...</td>\n",
       "      <td>...</td>\n",
       "      <td>f</td>\n",
       "      <td>NaN</td>\n",
       "      <td>NaN</td>\n",
       "      <td>f</td>\n",
       "      <td>f</td>\n",
       "      <td>strict_14_with_grace_period</td>\n",
       "      <td>t</td>\n",
       "      <td>t</td>\n",
       "      <td>2</td>\n",
       "      <td>0.32</td>\n",
       "    </tr>\n",
       "    <tr>\n",
       "      <th>3</th>\n",
       "      <td>3330</td>\n",
       "      <td>https://www.airbnb.com/rooms/3330</td>\n",
       "      <td>20180806171147</td>\n",
       "      <td>2018-08-07</td>\n",
       "      <td>++ Brooklyn Penthouse Guestroom ++</td>\n",
       "      <td>This is a spacious, clean, furnished master be...</td>\n",
       "      <td>Room Features: - clean, hardwood floors - 2 la...</td>\n",
       "      <td>This is a spacious, clean, furnished master be...</td>\n",
       "      <td>none</td>\n",
       "      <td>Location is GREAT!! Right off the L train in t...</td>\n",
       "      <td>...</td>\n",
       "      <td>f</td>\n",
       "      <td>NaN</td>\n",
       "      <td>NaN</td>\n",
       "      <td>f</td>\n",
       "      <td>f</td>\n",
       "      <td>strict_14_with_grace_period</td>\n",
       "      <td>f</td>\n",
       "      <td>f</td>\n",
       "      <td>3</td>\n",
       "      <td>0.32</td>\n",
       "    </tr>\n",
       "    <tr>\n",
       "      <th>4</th>\n",
       "      <td>3647</td>\n",
       "      <td>https://www.airbnb.com/rooms/3647</td>\n",
       "      <td>20180806171147</td>\n",
       "      <td>2018-08-07</td>\n",
       "      <td>THE VILLAGE OF HARLEM....NEW YORK !</td>\n",
       "      <td>NaN</td>\n",
       "      <td>WELCOME TO OUR INTERNATIONAL URBAN COMMUNITY T...</td>\n",
       "      <td>WELCOME TO OUR INTERNATIONAL URBAN COMMUNITY T...</td>\n",
       "      <td>none</td>\n",
       "      <td>NaN</td>\n",
       "      <td>...</td>\n",
       "      <td>f</td>\n",
       "      <td>NaN</td>\n",
       "      <td>NaN</td>\n",
       "      <td>f</td>\n",
       "      <td>f</td>\n",
       "      <td>strict_14_with_grace_period</td>\n",
       "      <td>t</td>\n",
       "      <td>t</td>\n",
       "      <td>1</td>\n",
       "      <td>NaN</td>\n",
       "    </tr>\n",
       "  </tbody>\n",
       "</table>\n",
       "<p>5 rows × 96 columns</p>\n",
       "</div>"
      ],
      "text/plain": [
       "     id                        listing_url       scrape_id last_scraped  \\\n",
       "0  2515  https://www.airbnb.com/rooms/2515  20180806171147   2018-08-07   \n",
       "1  2539  https://www.airbnb.com/rooms/2539  20180806171147   2018-08-07   \n",
       "2  2595  https://www.airbnb.com/rooms/2595  20180806171147   2018-08-07   \n",
       "3  3330  https://www.airbnb.com/rooms/3330  20180806171147   2018-08-07   \n",
       "4  3647  https://www.airbnb.com/rooms/3647  20180806171147   2018-08-07   \n",
       "\n",
       "                                  name  \\\n",
       "0     Stay at Chez Chic budget room #1   \n",
       "1   Clean & quiet apt home by the park   \n",
       "2                Skylit Midtown Castle   \n",
       "3   ++ Brooklyn Penthouse Guestroom ++   \n",
       "4  THE VILLAGE OF HARLEM....NEW YORK !   \n",
       "\n",
       "                                             summary  \\\n",
       "0  Step into our artistic spacious apartment and ...   \n",
       "1           Renovated apt home in elevator building.   \n",
       "2  Find your romantic getaway to this beautiful, ...   \n",
       "3  This is a spacious, clean, furnished master be...   \n",
       "4                                                NaN   \n",
       "\n",
       "                                               space  \\\n",
       "0  -PLEASE BOOK DIRECTLY. NO NEED TO SEND A REQUE...   \n",
       "1  Spacious, renovated, and clean apt home, one b...   \n",
       "2  - Spacious (500+ft²), immaculate and nicely fu...   \n",
       "3  Room Features: - clean, hardwood floors - 2 la...   \n",
       "4  WELCOME TO OUR INTERNATIONAL URBAN COMMUNITY T...   \n",
       "\n",
       "                                         description experiences_offered  \\\n",
       "0  Step into our artistic spacious apartment and ...                none   \n",
       "1  Renovated apt home in elevator building. Spaci...                none   \n",
       "2  Find your romantic getaway to this beautiful, ...                none   \n",
       "3  This is a spacious, clean, furnished master be...                none   \n",
       "4  WELCOME TO OUR INTERNATIONAL URBAN COMMUNITY T...                none   \n",
       "\n",
       "                               neighborhood_overview        ...          \\\n",
       "0                                                NaN        ...           \n",
       "1    Close to Prospect Park and Historic Ditmas Park        ...           \n",
       "2  Centrally located in the heart of Manhattan ju...        ...           \n",
       "3  Location is GREAT!! Right off the L train in t...        ...           \n",
       "4                                                NaN        ...           \n",
       "\n",
       "  requires_license license jurisdiction_names instant_bookable  \\\n",
       "0                f     NaN                NaN                f   \n",
       "1                f     NaN                NaN                f   \n",
       "2                f     NaN                NaN                f   \n",
       "3                f     NaN                NaN                f   \n",
       "4                f     NaN                NaN                f   \n",
       "\n",
       "  is_business_travel_ready          cancellation_policy  \\\n",
       "0                        f  strict_14_with_grace_period   \n",
       "1                        f                     moderate   \n",
       "2                        f  strict_14_with_grace_period   \n",
       "3                        f  strict_14_with_grace_period   \n",
       "4                        f  strict_14_with_grace_period   \n",
       "\n",
       "   require_guest_profile_picture require_guest_phone_verification  \\\n",
       "0                              f                                f   \n",
       "1                              f                                f   \n",
       "2                              t                                t   \n",
       "3                              f                                f   \n",
       "4                              t                                t   \n",
       "\n",
       "   calculated_host_listings_count  reviews_per_month  \n",
       "0                               3               1.42  \n",
       "1                               9               0.25  \n",
       "2                               2               0.32  \n",
       "3                               3               0.32  \n",
       "4                               1                NaN  \n",
       "\n",
       "[5 rows x 96 columns]"
      ]
     },
     "execution_count": 4,
     "metadata": {},
     "output_type": "execute_result"
    }
   ],
   "source": [
    "train.head()"
   ]
  },
  {
   "cell_type": "code",
   "execution_count": 5,
   "metadata": {},
   "outputs": [],
   "source": [
    "# global vars\n",
    "\n",
    "# drop useless columns\n",
    "DROP_COLS = set([\"scrape_id\",\n",
    "               \"last_scraped\",\n",
    "               \"thumbnail_url\",\n",
    "               \"medium_url\",\n",
    "               \"picture_url\",\n",
    "               \"xl_picture_url\",\n",
    "               \"host_thumbnail_url\",\n",
    "               \"host_picture_url\",\n",
    "               \"host_total_listings_count\",\n",
    "               \"host_has_profile_pic\",\n",
    "               \"calendar_last_scraped\",\n",
    "               \"availability_30\",\n",
    "               \"availability_60\",\n",
    "               \"availability_90\",\n",
    "               \"availability_365\",\n",
    "               \"first_review\",\n",
    "               \"last_review\"])\n",
    "\n",
    "LABEL = 'review_scores_rating'  # TODO: is this the overall rating?"
   ]
  },
  {
   "cell_type": "code",
   "execution_count": 6,
   "metadata": {},
   "outputs": [
    {
     "data": {
      "text/plain": [
       "(50914, 95)"
      ]
     },
     "execution_count": 6,
     "metadata": {},
     "output_type": "execute_result"
    }
   ],
   "source": [
    "train_label = train[LABEL]\n",
    "train.drop(LABEL, axis=1, inplace=True)\n",
    "train.shape"
   ]
  },
  {
   "cell_type": "code",
   "execution_count": 7,
   "metadata": {},
   "outputs": [
    {
     "data": {
      "text/plain": [
       "(50914, 78)"
      ]
     },
     "execution_count": 7,
     "metadata": {},
     "output_type": "execute_result"
    }
   ],
   "source": [
    "train.drop(DROP_COLS, axis=1, inplace=True)\n",
    "train.shape"
   ]
  },
  {
   "cell_type": "code",
   "execution_count": 8,
   "metadata": {},
   "outputs": [
    {
     "data": {
      "text/plain": [
       "dict_keys([dtype('int64'), dtype('float64'), dtype('O')])"
      ]
     },
     "execution_count": 8,
     "metadata": {},
     "output_type": "execute_result"
    }
   ],
   "source": [
    "# separate out the different *types* of columns\n",
    "train_type_dict = train.columns.to_series().groupby(train.dtypes).groups\n",
    "train_type_dict.keys()"
   ]
  },
  {
   "cell_type": "code",
   "execution_count": 9,
   "metadata": {
    "scrolled": false
   },
   "outputs": [],
   "source": [
    "def get_cat_cols(data_df, cat_colnames):\n",
    "    # find categorical/character columns with <= 10 unique values \n",
    "    # (features with too many categories is hard to work with)\n",
    "    cols_cat = []\n",
    "\n",
    "    for col in cat_colnames:\n",
    "        if len(data_df[col].unique()) <= 10:  # 3 to include binary values as well as NA/NaN/Null\n",
    "            cols_cat.append(col)\n",
    "    return cols_cat"
   ]
  },
  {
   "cell_type": "code",
   "execution_count": 10,
   "metadata": {},
   "outputs": [],
   "source": [
    "def create_data_dict(data_df, type_dict, label_df):\n",
    "    int_data = data_df[type_dict[np.dtype('int')]]\n",
    "    float_data = data_df[type_dict[np.dtype('float')]]\n",
    "    num_data = pd.concat([int_data, float_data], axis=1)\n",
    "    \n",
    "    cat_colnames = get_cat_cols(data_df, type_dict[np.dtype('object')])\n",
    "    cat_data = data_df[cat_colnames]\n",
    "    return {'num': num_data, 'cat':cat_data, 'label':label_df}"
   ]
  },
  {
   "cell_type": "code",
   "execution_count": 11,
   "metadata": {},
   "outputs": [
    {
     "data": {
      "text/plain": [
       "((50914, 23), (50914, 20), (50914,))"
      ]
     },
     "execution_count": 11,
     "metadata": {},
     "output_type": "execute_result"
    }
   ],
   "source": [
    "train_dict = create_data_dict(train, train_type_dict, train_label)\n",
    "\n",
    "train_dict['num'].shape, train_dict['cat'].shape, train_dict['label'].shape"
   ]
  },
  {
   "cell_type": "code",
   "execution_count": 12,
   "metadata": {},
   "outputs": [],
   "source": [
    "DROP_COLS_NUM = set()\n",
    "DROP_COLS_CAT = set()"
   ]
  },
  {
   "cell_type": "code",
   "execution_count": 13,
   "metadata": {},
   "outputs": [
    {
     "data": {
      "text/plain": [
       "{'host_acceptance_rate', 'square_feet'}"
      ]
     },
     "execution_count": 13,
     "metadata": {},
     "output_type": "execute_result"
    }
   ],
   "source": [
    "# drop numerical columns with a high ratio (50%) of missing values\n",
    "\n",
    "train_num_missing_cols = train_dict['num'].columns[train_dict['num'].isnull().any()]\n",
    "for col in train_num_missing_cols:\n",
    "    if(train_dict['num'][col].isnull().sum() >= 0.5*train.shape[0]):\n",
    "        DROP_COLS_NUM.add(col)\n",
    "        \n",
    "DROP_COLS_NUM"
   ]
  },
  {
   "cell_type": "code",
   "execution_count": 14,
   "metadata": {},
   "outputs": [
    {
     "data": {
      "text/plain": [
       "{'host_acceptance_rate',\n",
       " 'number_of_reviews',\n",
       " 'review_scores_accuracy',\n",
       " 'review_scores_checkin',\n",
       " 'review_scores_cleanliness',\n",
       " 'review_scores_communication',\n",
       " 'review_scores_location',\n",
       " 'review_scores_value',\n",
       " 'reviews_per_month',\n",
       " 'square_feet'}"
      ]
     },
     "execution_count": 14,
     "metadata": {},
     "output_type": "execute_result"
    }
   ],
   "source": [
    "# doesn't make sense to predict overall review with other reviews --> drop review-related numerical columns\n",
    "\n",
    "train_num_review_cols = set([col for col in train_dict['num'].columns if re.search('review', col)])\n",
    "DROP_COLS_NUM = DROP_COLS_NUM.union(train_num_review_cols)\n",
    "\n",
    "DROP_COLS_NUM"
   ]
  },
  {
   "cell_type": "code",
   "execution_count": 15,
   "metadata": {},
   "outputs": [
    {
     "data": {
      "text/plain": [
       "(50914, 13)"
      ]
     },
     "execution_count": 15,
     "metadata": {},
     "output_type": "execute_result"
    }
   ],
   "source": [
    "train_dict['num'].drop(DROP_COLS_NUM, axis=1, inplace=True)\n",
    "train_dict['num'].shape"
   ]
  },
  {
   "cell_type": "code",
   "execution_count": 16,
   "metadata": {},
   "outputs": [],
   "source": [
    "# fill in the numerical missing values with the column median\n",
    "# TODO: better ways to impute missing numerical values?\n",
    "def fill_na(num_df):\n",
    "    missing_cols = num_df.columns[num_df.isnull().any()]\n",
    "    for col in missing_cols:\n",
    "        num_df[col].fillna(num_df[col].median(), inplace=True)\n",
    "            \n",
    "fill_na(train_dict['num'])"
   ]
  },
  {
   "cell_type": "code",
   "execution_count": 17,
   "metadata": {},
   "outputs": [
    {
     "data": {
      "text/plain": [
       "{'jurisdiction_names', 'license'}"
      ]
     },
     "execution_count": 17,
     "metadata": {},
     "output_type": "execute_result"
    }
   ],
   "source": [
    "# drop categorical columns with a high ratio (50%) of missing values\n",
    "\n",
    "train_cat_missing_cols = train_dict['cat'].columns[train_dict['cat'].isnull().any()]\n",
    "for col in train_cat_missing_cols:\n",
    "    if(train_dict['cat'][col].isnull().sum() >= 0.5*train.shape[0]):\n",
    "        DROP_COLS_CAT.add(col)\n",
    "\n",
    "DROP_COLS_CAT"
   ]
  },
  {
   "cell_type": "code",
   "execution_count": 18,
   "metadata": {},
   "outputs": [
    {
     "name": "stderr",
     "output_type": "stream",
     "text": [
      "/Users/ChentianJiang/miniconda3/envs/cs317/lib/python3.7/site-packages/pandas/core/frame.py:3697: SettingWithCopyWarning: \n",
      "A value is trying to be set on a copy of a slice from a DataFrame\n",
      "\n",
      "See the caveats in the documentation: http://pandas.pydata.org/pandas-docs/stable/indexing.html#indexing-view-versus-copy\n",
      "  errors=errors)\n"
     ]
    },
    {
     "data": {
      "text/plain": [
       "(50914, 18)"
      ]
     },
     "execution_count": 18,
     "metadata": {},
     "output_type": "execute_result"
    }
   ],
   "source": [
    "train_dict['cat'].drop(DROP_COLS_CAT, axis=1, inplace=True)\n",
    "train_dict['cat'].shape"
   ]
  },
  {
   "cell_type": "code",
   "execution_count": 19,
   "metadata": {},
   "outputs": [],
   "source": [
    "train_dict['cat'] = train_dict['cat'].astype('str') # consistent type"
   ]
  },
  {
   "cell_type": "code",
   "execution_count": 20,
   "metadata": {},
   "outputs": [
    {
     "data": {
      "text/plain": [
       "(50914, 57)"
      ]
     },
     "execution_count": 20,
     "metadata": {},
     "output_type": "execute_result"
    }
   ],
   "source": [
    "# one-hot encode categorical features\n",
    "\n",
    "train_dict['cat'] = pd.get_dummies(train_dict['cat']) # this also encodes NaN/Null/NA etc. as its own category\n",
    "train_dict['cat'].shape"
   ]
  },
  {
   "cell_type": "code",
   "execution_count": 21,
   "metadata": {},
   "outputs": [],
   "source": [
    "# normalize (put into range [0,1]) numerical features\n",
    "train_num = sklearn.preprocessing.normalize(train_dict['num'], axis=0)\n",
    "train_num = pd.DataFrame(train_num, columns=train_dict['num'].columns)\n",
    "\n",
    "# standardize (center to the mean and scale to unit variance) numerical features\n",
    "train_num = sklearn.preprocessing.scale(train_num, axis=0)\n",
    "train_num = pd.DataFrame(train_num, columns=train_dict['num'].columns)"
   ]
  },
  {
   "cell_type": "code",
   "execution_count": 22,
   "metadata": {},
   "outputs": [
    {
     "data": {
      "text/plain": [
       "((50914,), (50914, 70))"
      ]
     },
     "execution_count": 22,
     "metadata": {},
     "output_type": "execute_result"
    }
   ],
   "source": [
    "# put together numerical and categorical data (separated from labels)\n",
    "train_cat = train_dict['cat'].astype('int')\n",
    "train_data = pd.concat([train_num, train_cat], axis=1)\n",
    "\n",
    "train_label.shape, train_data.shape"
   ]
  },
  {
   "cell_type": "code",
   "execution_count": 23,
   "metadata": {},
   "outputs": [],
   "source": [
    "# impute missing label value with median\n",
    "# TODO: better impute method?\n",
    "train_dict['label'].fillna(train_dict['label'].median(), inplace=True)"
   ]
  },
  {
   "cell_type": "code",
   "execution_count": 24,
   "metadata": {},
   "outputs": [
    {
     "data": {
      "text/plain": [
       "19"
      ]
     },
     "execution_count": 24,
     "metadata": {},
     "output_type": "execute_result"
    }
   ],
   "source": [
    "# choose features that are relatively more correlated with the label\n",
    "\n",
    "corrDict = dict()\n",
    "for col in train_data.columns:\n",
    "    train_data[col].dtype\n",
    "    corr = abs(train_data[col].corr(train_label))  # \"computes pairwise correlation of columns, excluding NA/null values\"\n",
    "    if corr > 0.02:  # most features are barely correlated with the label\n",
    "        corrDict[col] = corr\n",
    "        \n",
    "# save chosen features\n",
    "with open('corrDict.pickle', 'wb') as f:\n",
    "    pickle.dump(corrDict, f)\n",
    "len(corrDict)  # number of features with correlation above a certain threshold"
   ]
  },
  {
   "cell_type": "code",
   "execution_count": 25,
   "metadata": {},
   "outputs": [
    {
     "data": {
      "text/plain": [
       "{'id': 0.04697486373512992,\n",
       " 'host_id': 0.03647428871160532,\n",
       " 'accommodates': 0.032057733695012615,\n",
       " 'calculated_host_listings_count': 0.026567959389538032,\n",
       " 'longitude': 0.023159218757749976,\n",
       " 'beds': 0.03612508486889648,\n",
       " 'host_is_superhost_f': 0.14965465554289106,\n",
       " 'host_is_superhost_t': 0.14973725471109212,\n",
       " 'host_identity_verified_f': 0.02716568689308185,\n",
       " 'host_identity_verified_t': 0.027181575202442035,\n",
       " 'neighbourhood_group_cleansed_Brooklyn': 0.03238031945441595,\n",
       " 'neighbourhood_group_cleansed_Manhattan': 0.027002073378334608,\n",
       " 'room_type_Entire home/apt': 0.03422772761577601,\n",
       " 'room_type_Private room': 0.03287318388260937,\n",
       " 'instant_bookable_f': 0.060519618291476764,\n",
       " 'instant_bookable_t': 0.060519618291476764,\n",
       " 'cancellation_policy_flexible': 0.021684854503989923,\n",
       " 'cancellation_policy_moderate': 0.03486031433140535,\n",
       " 'cancellation_policy_strict_14_with_grace_period': 0.04845450263351716}"
      ]
     },
     "execution_count": 25,
     "metadata": {},
     "output_type": "execute_result"
    }
   ],
   "source": [
    "corrDict # top correlated (with label) features with correlation above some threshold"
   ]
  }
 ],
 "metadata": {
  "kernelspec": {
   "display_name": "Python (cs317)",
   "language": "python",
   "name": "cs317"
  },
  "language_info": {
   "codemirror_mode": {
    "name": "ipython",
    "version": 3
   },
   "file_extension": ".py",
   "mimetype": "text/x-python",
   "name": "python",
   "nbconvert_exporter": "python",
   "pygments_lexer": "ipython3",
   "version": "3.7.0"
  }
 },
 "nbformat": 4,
 "nbformat_minor": 2
}
