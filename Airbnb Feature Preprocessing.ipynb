{
 "cells": [
  {
   "cell_type": "markdown",
   "metadata": {},
   "source": [
    "# Airbnb Feature Preprocessing\n",
    "This notebook preprocesses and saves Airbnb features that are relevant to our app.\n",
    "\n",
    "## Dataset Information\n",
    "Source: insideairbnb.com/get-the-data.html\n",
    "\n",
    "Category: New York City, New York, United States\n",
    "\n",
    "Date Compiled: 06 August 2018"
   ]
  },
  {
   "cell_type": "markdown",
   "metadata": {},
   "source": [
    "## Relevant Airbnb Features\n",
    "We want preprocess and save the following list of features for use in our app's filtering functionality:\n",
    "* Filter 1: Price (Filter) [not weight]- range\n",
    "* Filter 2: Accommodates (filters) - Check if N<= Accommodates\n",
    "* Filter 3: Number of Bedrooms (filter)- (minimum, dropdown list?)\n",
    "* Filter 4: Number of Beds (filter)- input (minimum, dropdown list?)\n",
    "* Filter 5: Location\n",
    "    * Address Search (City, etc.)\n",
    "    * Neighborhoods (dropdown)\n",
    "    * Input Address → (Lat, Long), compare to Lat,Long of airbnb (tolerance 5%)\n",
    "* Filter 6: Dates of Stay\n",
    "    * Calendar\n",
    "    * Filter: Number of Nights:   Ensure input #nights is in range of Min and Max"
   ]
  },
  {
   "cell_type": "code",
   "execution_count": 1,
   "metadata": {
    "collapsed": true
   },
   "outputs": [],
   "source": [
    "import pandas as pd\n",
    "import numpy as np\n",
    "import sklearn\n",
    "import sklearn.preprocessing\n",
    "import re\n",
    "import pickle"
   ]
  },
  {
   "cell_type": "markdown",
   "metadata": {},
   "source": [
    "## Preprocess the Listings Dataset"
   ]
  },
  {
   "cell_type": "code",
   "execution_count": 2,
   "metadata": {},
   "outputs": [
    {
     "name": "stderr",
     "output_type": "stream",
     "text": [
      "/Users/ChentianJiang/miniconda3/envs/airbnb-rec/lib/python3.7/site-packages/IPython/core/interactiveshell.py:3020: DtypeWarning: Columns (43,87,88) have mixed types. Specify dtype option on import or set low_memory=False.\n",
      "  interactivity=interactivity, compiler=compiler, result=result)\n"
     ]
    },
    {
     "data": {
      "text/plain": [
       "(50914, 96)"
      ]
     },
     "execution_count": 2,
     "metadata": {},
     "output_type": "execute_result"
    }
   ],
   "source": [
    "listings = pd.read_csv('data/listings.csv')\n",
    "\n",
    "listings.shape"
   ]
  },
  {
   "cell_type": "code",
   "execution_count": 3,
   "metadata": {},
   "outputs": [
    {
     "data": {
      "text/html": [
       "<div>\n",
       "<style scoped>\n",
       "    .dataframe tbody tr th:only-of-type {\n",
       "        vertical-align: middle;\n",
       "    }\n",
       "\n",
       "    .dataframe tbody tr th {\n",
       "        vertical-align: top;\n",
       "    }\n",
       "\n",
       "    .dataframe thead th {\n",
       "        text-align: right;\n",
       "    }\n",
       "</style>\n",
       "<table border=\"1\" class=\"dataframe\">\n",
       "  <thead>\n",
       "    <tr style=\"text-align: right;\">\n",
       "      <th></th>\n",
       "      <th>id</th>\n",
       "      <th>listing_url</th>\n",
       "      <th>scrape_id</th>\n",
       "      <th>last_scraped</th>\n",
       "      <th>name</th>\n",
       "      <th>summary</th>\n",
       "      <th>space</th>\n",
       "      <th>description</th>\n",
       "      <th>experiences_offered</th>\n",
       "      <th>neighborhood_overview</th>\n",
       "      <th>...</th>\n",
       "      <th>requires_license</th>\n",
       "      <th>license</th>\n",
       "      <th>jurisdiction_names</th>\n",
       "      <th>instant_bookable</th>\n",
       "      <th>is_business_travel_ready</th>\n",
       "      <th>cancellation_policy</th>\n",
       "      <th>require_guest_profile_picture</th>\n",
       "      <th>require_guest_phone_verification</th>\n",
       "      <th>calculated_host_listings_count</th>\n",
       "      <th>reviews_per_month</th>\n",
       "    </tr>\n",
       "  </thead>\n",
       "  <tbody>\n",
       "    <tr>\n",
       "      <th>0</th>\n",
       "      <td>2515</td>\n",
       "      <td>https://www.airbnb.com/rooms/2515</td>\n",
       "      <td>20180806171147</td>\n",
       "      <td>2018-08-07</td>\n",
       "      <td>Stay at Chez Chic budget room #1</td>\n",
       "      <td>Step into our artistic spacious apartment and ...</td>\n",
       "      <td>-PLEASE BOOK DIRECTLY. NO NEED TO SEND A REQUE...</td>\n",
       "      <td>Step into our artistic spacious apartment and ...</td>\n",
       "      <td>none</td>\n",
       "      <td>NaN</td>\n",
       "      <td>...</td>\n",
       "      <td>f</td>\n",
       "      <td>NaN</td>\n",
       "      <td>NaN</td>\n",
       "      <td>f</td>\n",
       "      <td>f</td>\n",
       "      <td>strict_14_with_grace_period</td>\n",
       "      <td>f</td>\n",
       "      <td>f</td>\n",
       "      <td>3</td>\n",
       "      <td>1.42</td>\n",
       "    </tr>\n",
       "    <tr>\n",
       "      <th>1</th>\n",
       "      <td>2539</td>\n",
       "      <td>https://www.airbnb.com/rooms/2539</td>\n",
       "      <td>20180806171147</td>\n",
       "      <td>2018-08-07</td>\n",
       "      <td>Clean &amp; quiet apt home by the park</td>\n",
       "      <td>Renovated apt home in elevator building.</td>\n",
       "      <td>Spacious, renovated, and clean apt home, one b...</td>\n",
       "      <td>Renovated apt home in elevator building. Spaci...</td>\n",
       "      <td>none</td>\n",
       "      <td>Close to Prospect Park and Historic Ditmas Park</td>\n",
       "      <td>...</td>\n",
       "      <td>f</td>\n",
       "      <td>NaN</td>\n",
       "      <td>NaN</td>\n",
       "      <td>f</td>\n",
       "      <td>f</td>\n",
       "      <td>moderate</td>\n",
       "      <td>f</td>\n",
       "      <td>f</td>\n",
       "      <td>9</td>\n",
       "      <td>0.25</td>\n",
       "    </tr>\n",
       "    <tr>\n",
       "      <th>2</th>\n",
       "      <td>2595</td>\n",
       "      <td>https://www.airbnb.com/rooms/2595</td>\n",
       "      <td>20180806171147</td>\n",
       "      <td>2018-08-07</td>\n",
       "      <td>Skylit Midtown Castle</td>\n",
       "      <td>Find your romantic getaway to this beautiful, ...</td>\n",
       "      <td>- Spacious (500+ft²), immaculate and nicely fu...</td>\n",
       "      <td>Find your romantic getaway to this beautiful, ...</td>\n",
       "      <td>none</td>\n",
       "      <td>Centrally located in the heart of Manhattan ju...</td>\n",
       "      <td>...</td>\n",
       "      <td>f</td>\n",
       "      <td>NaN</td>\n",
       "      <td>NaN</td>\n",
       "      <td>f</td>\n",
       "      <td>f</td>\n",
       "      <td>strict_14_with_grace_period</td>\n",
       "      <td>t</td>\n",
       "      <td>t</td>\n",
       "      <td>2</td>\n",
       "      <td>0.32</td>\n",
       "    </tr>\n",
       "    <tr>\n",
       "      <th>3</th>\n",
       "      <td>3330</td>\n",
       "      <td>https://www.airbnb.com/rooms/3330</td>\n",
       "      <td>20180806171147</td>\n",
       "      <td>2018-08-07</td>\n",
       "      <td>++ Brooklyn Penthouse Guestroom ++</td>\n",
       "      <td>This is a spacious, clean, furnished master be...</td>\n",
       "      <td>Room Features: - clean, hardwood floors - 2 la...</td>\n",
       "      <td>This is a spacious, clean, furnished master be...</td>\n",
       "      <td>none</td>\n",
       "      <td>Location is GREAT!! Right off the L train in t...</td>\n",
       "      <td>...</td>\n",
       "      <td>f</td>\n",
       "      <td>NaN</td>\n",
       "      <td>NaN</td>\n",
       "      <td>f</td>\n",
       "      <td>f</td>\n",
       "      <td>strict_14_with_grace_period</td>\n",
       "      <td>f</td>\n",
       "      <td>f</td>\n",
       "      <td>3</td>\n",
       "      <td>0.32</td>\n",
       "    </tr>\n",
       "    <tr>\n",
       "      <th>4</th>\n",
       "      <td>3647</td>\n",
       "      <td>https://www.airbnb.com/rooms/3647</td>\n",
       "      <td>20180806171147</td>\n",
       "      <td>2018-08-07</td>\n",
       "      <td>THE VILLAGE OF HARLEM....NEW YORK !</td>\n",
       "      <td>NaN</td>\n",
       "      <td>WELCOME TO OUR INTERNATIONAL URBAN COMMUNITY T...</td>\n",
       "      <td>WELCOME TO OUR INTERNATIONAL URBAN COMMUNITY T...</td>\n",
       "      <td>none</td>\n",
       "      <td>NaN</td>\n",
       "      <td>...</td>\n",
       "      <td>f</td>\n",
       "      <td>NaN</td>\n",
       "      <td>NaN</td>\n",
       "      <td>f</td>\n",
       "      <td>f</td>\n",
       "      <td>strict_14_with_grace_period</td>\n",
       "      <td>t</td>\n",
       "      <td>t</td>\n",
       "      <td>1</td>\n",
       "      <td>NaN</td>\n",
       "    </tr>\n",
       "  </tbody>\n",
       "</table>\n",
       "<p>5 rows × 96 columns</p>\n",
       "</div>"
      ],
      "text/plain": [
       "     id                        listing_url       scrape_id last_scraped  \\\n",
       "0  2515  https://www.airbnb.com/rooms/2515  20180806171147   2018-08-07   \n",
       "1  2539  https://www.airbnb.com/rooms/2539  20180806171147   2018-08-07   \n",
       "2  2595  https://www.airbnb.com/rooms/2595  20180806171147   2018-08-07   \n",
       "3  3330  https://www.airbnb.com/rooms/3330  20180806171147   2018-08-07   \n",
       "4  3647  https://www.airbnb.com/rooms/3647  20180806171147   2018-08-07   \n",
       "\n",
       "                                  name  \\\n",
       "0     Stay at Chez Chic budget room #1   \n",
       "1   Clean & quiet apt home by the park   \n",
       "2                Skylit Midtown Castle   \n",
       "3   ++ Brooklyn Penthouse Guestroom ++   \n",
       "4  THE VILLAGE OF HARLEM....NEW YORK !   \n",
       "\n",
       "                                             summary  \\\n",
       "0  Step into our artistic spacious apartment and ...   \n",
       "1           Renovated apt home in elevator building.   \n",
       "2  Find your romantic getaway to this beautiful, ...   \n",
       "3  This is a spacious, clean, furnished master be...   \n",
       "4                                                NaN   \n",
       "\n",
       "                                               space  \\\n",
       "0  -PLEASE BOOK DIRECTLY. NO NEED TO SEND A REQUE...   \n",
       "1  Spacious, renovated, and clean apt home, one b...   \n",
       "2  - Spacious (500+ft²), immaculate and nicely fu...   \n",
       "3  Room Features: - clean, hardwood floors - 2 la...   \n",
       "4  WELCOME TO OUR INTERNATIONAL URBAN COMMUNITY T...   \n",
       "\n",
       "                                         description experiences_offered  \\\n",
       "0  Step into our artistic spacious apartment and ...                none   \n",
       "1  Renovated apt home in elevator building. Spaci...                none   \n",
       "2  Find your romantic getaway to this beautiful, ...                none   \n",
       "3  This is a spacious, clean, furnished master be...                none   \n",
       "4  WELCOME TO OUR INTERNATIONAL URBAN COMMUNITY T...                none   \n",
       "\n",
       "                               neighborhood_overview        ...          \\\n",
       "0                                                NaN        ...           \n",
       "1    Close to Prospect Park and Historic Ditmas Park        ...           \n",
       "2  Centrally located in the heart of Manhattan ju...        ...           \n",
       "3  Location is GREAT!! Right off the L train in t...        ...           \n",
       "4                                                NaN        ...           \n",
       "\n",
       "  requires_license license jurisdiction_names instant_bookable  \\\n",
       "0                f     NaN                NaN                f   \n",
       "1                f     NaN                NaN                f   \n",
       "2                f     NaN                NaN                f   \n",
       "3                f     NaN                NaN                f   \n",
       "4                f     NaN                NaN                f   \n",
       "\n",
       "  is_business_travel_ready          cancellation_policy  \\\n",
       "0                        f  strict_14_with_grace_period   \n",
       "1                        f                     moderate   \n",
       "2                        f  strict_14_with_grace_period   \n",
       "3                        f  strict_14_with_grace_period   \n",
       "4                        f  strict_14_with_grace_period   \n",
       "\n",
       "   require_guest_profile_picture require_guest_phone_verification  \\\n",
       "0                              f                                f   \n",
       "1                              f                                f   \n",
       "2                              t                                t   \n",
       "3                              f                                f   \n",
       "4                              t                                t   \n",
       "\n",
       "   calculated_host_listings_count  reviews_per_month  \n",
       "0                               3               1.42  \n",
       "1                               9               0.25  \n",
       "2                               2               0.32  \n",
       "3                               3               0.32  \n",
       "4                               1                NaN  \n",
       "\n",
       "[5 rows x 96 columns]"
      ]
     },
     "execution_count": 3,
     "metadata": {},
     "output_type": "execute_result"
    }
   ],
   "source": [
    "listings.head()"
   ]
  },
  {
   "cell_type": "code",
   "execution_count": 4,
   "metadata": {
    "collapsed": true
   },
   "outputs": [],
   "source": [
    "# global vars\n",
    "\n",
    "# Filter 1: Price (Filter) [not weight]- range\n",
    "# Filter 2: Accommodates (filters) - Check if N<= Accommodates\n",
    "# Filter 3: Number of Bedrooms (filter)- (minimum, dropdown list?)\n",
    "# Filter 4: Number of Beds (filter)- input (minimum, dropdown list?)\n",
    "# Filter 5: Location\n",
    "# Address Search (City, etc.)\n",
    "# Neighborhoods (dropdown)\n",
    "# Input Address → (Lat, Long), compare to Lat,Long of airbnb (tolerance 5%)\n",
    "# Filter 6: Dates of Stay\n",
    "# Calendar\n",
    "# Filter: Number of Nights: Ensure input #nights is in range of Min and Max\n",
    "\n",
    "# listings['has_availability'].unique() returns 'array(['t'], dtype=object)', i.e. all listings are available\n",
    "# therefore, we can take availability for granted and we don't need to include it in the column list below\n",
    "\n",
    "KEEP_COLS = ['id',\n",
    "             'price', \n",
    "             'weekly_price', \n",
    "             'monthly_price',\n",
    "             'accommodates',\n",
    "             'bedrooms',\n",
    "             'beds',\n",
    "             'city',\n",
    "             'state',\n",
    "             'neighbourhood',\n",
    "             'latitude',\n",
    "             'longitude',\n",
    "             # 'has_availability',\n",
    "             'minimum_nights',\n",
    "             'maximum_nights'\n",
    "            ]"
   ]
  },
  {
   "cell_type": "code",
   "execution_count": 5,
   "metadata": {},
   "outputs": [
    {
     "data": {
      "text/plain": [
       "(50914, 14)"
      ]
     },
     "execution_count": 5,
     "metadata": {},
     "output_type": "execute_result"
    }
   ],
   "source": [
    "listings_filters = listings[KEEP_COLS]\n",
    "listings_filters.shape"
   ]
  },
  {
   "cell_type": "code",
   "execution_count": 6,
   "metadata": {},
   "outputs": [
    {
     "data": {
      "text/html": [
       "<div>\n",
       "<style scoped>\n",
       "    .dataframe tbody tr th:only-of-type {\n",
       "        vertical-align: middle;\n",
       "    }\n",
       "\n",
       "    .dataframe tbody tr th {\n",
       "        vertical-align: top;\n",
       "    }\n",
       "\n",
       "    .dataframe thead th {\n",
       "        text-align: right;\n",
       "    }\n",
       "</style>\n",
       "<table border=\"1\" class=\"dataframe\">\n",
       "  <thead>\n",
       "    <tr style=\"text-align: right;\">\n",
       "      <th></th>\n",
       "      <th>id</th>\n",
       "      <th>price</th>\n",
       "      <th>weekly_price</th>\n",
       "      <th>monthly_price</th>\n",
       "      <th>accommodates</th>\n",
       "      <th>bedrooms</th>\n",
       "      <th>beds</th>\n",
       "      <th>city</th>\n",
       "      <th>state</th>\n",
       "      <th>neighbourhood</th>\n",
       "      <th>latitude</th>\n",
       "      <th>longitude</th>\n",
       "      <th>minimum_nights</th>\n",
       "      <th>maximum_nights</th>\n",
       "    </tr>\n",
       "  </thead>\n",
       "  <tbody>\n",
       "    <tr>\n",
       "      <th>0</th>\n",
       "      <td>2515</td>\n",
       "      <td>$59.00</td>\n",
       "      <td>$720.00</td>\n",
       "      <td>$1,690.00</td>\n",
       "      <td>3</td>\n",
       "      <td>1.0</td>\n",
       "      <td>2.0</td>\n",
       "      <td>New York</td>\n",
       "      <td>NY</td>\n",
       "      <td>Harlem</td>\n",
       "      <td>40.799205</td>\n",
       "      <td>-73.953676</td>\n",
       "      <td>2</td>\n",
       "      <td>21</td>\n",
       "    </tr>\n",
       "    <tr>\n",
       "      <th>1</th>\n",
       "      <td>2539</td>\n",
       "      <td>$149.00</td>\n",
       "      <td>$299.00</td>\n",
       "      <td>$999.00</td>\n",
       "      <td>4</td>\n",
       "      <td>1.0</td>\n",
       "      <td>3.0</td>\n",
       "      <td>Brooklyn</td>\n",
       "      <td>NY</td>\n",
       "      <td>Kensington</td>\n",
       "      <td>40.647486</td>\n",
       "      <td>-73.972370</td>\n",
       "      <td>1</td>\n",
       "      <td>730</td>\n",
       "    </tr>\n",
       "    <tr>\n",
       "      <th>2</th>\n",
       "      <td>2595</td>\n",
       "      <td>$225.00</td>\n",
       "      <td>$1,995.00</td>\n",
       "      <td>NaN</td>\n",
       "      <td>2</td>\n",
       "      <td>0.0</td>\n",
       "      <td>1.0</td>\n",
       "      <td>New York</td>\n",
       "      <td>NY</td>\n",
       "      <td>Midtown</td>\n",
       "      <td>40.753621</td>\n",
       "      <td>-73.983774</td>\n",
       "      <td>1</td>\n",
       "      <td>1125</td>\n",
       "    </tr>\n",
       "    <tr>\n",
       "      <th>3</th>\n",
       "      <td>3330</td>\n",
       "      <td>$70.00</td>\n",
       "      <td>$650.00</td>\n",
       "      <td>$1,900.00</td>\n",
       "      <td>2</td>\n",
       "      <td>1.0</td>\n",
       "      <td>1.0</td>\n",
       "      <td>Brooklyn</td>\n",
       "      <td>NY</td>\n",
       "      <td>Williamsburg</td>\n",
       "      <td>40.708558</td>\n",
       "      <td>-73.942362</td>\n",
       "      <td>5</td>\n",
       "      <td>730</td>\n",
       "    </tr>\n",
       "    <tr>\n",
       "      <th>4</th>\n",
       "      <td>3647</td>\n",
       "      <td>$150.00</td>\n",
       "      <td>NaN</td>\n",
       "      <td>NaN</td>\n",
       "      <td>2</td>\n",
       "      <td>1.0</td>\n",
       "      <td>1.0</td>\n",
       "      <td>New York</td>\n",
       "      <td>NY</td>\n",
       "      <td>Harlem</td>\n",
       "      <td>40.809018</td>\n",
       "      <td>-73.941902</td>\n",
       "      <td>3</td>\n",
       "      <td>7</td>\n",
       "    </tr>\n",
       "  </tbody>\n",
       "</table>\n",
       "</div>"
      ],
      "text/plain": [
       "     id    price weekly_price monthly_price  accommodates  bedrooms  beds  \\\n",
       "0  2515   $59.00      $720.00     $1,690.00             3       1.0   2.0   \n",
       "1  2539  $149.00      $299.00       $999.00             4       1.0   3.0   \n",
       "2  2595  $225.00    $1,995.00           NaN             2       0.0   1.0   \n",
       "3  3330   $70.00      $650.00     $1,900.00             2       1.0   1.0   \n",
       "4  3647  $150.00          NaN           NaN             2       1.0   1.0   \n",
       "\n",
       "        city state neighbourhood   latitude  longitude  minimum_nights  \\\n",
       "0   New York    NY        Harlem  40.799205 -73.953676               2   \n",
       "1  Brooklyn     NY    Kensington  40.647486 -73.972370               1   \n",
       "2   New York    NY       Midtown  40.753621 -73.983774               1   \n",
       "3   Brooklyn    NY  Williamsburg  40.708558 -73.942362               5   \n",
       "4   New York    NY        Harlem  40.809018 -73.941902               3   \n",
       "\n",
       "   maximum_nights  \n",
       "0              21  \n",
       "1             730  \n",
       "2            1125  \n",
       "3             730  \n",
       "4               7  "
      ]
     },
     "execution_count": 6,
     "metadata": {},
     "output_type": "execute_result"
    }
   ],
   "source": [
    "listings_filters.head()"
   ]
  },
  {
   "cell_type": "code",
   "execution_count": 7,
   "metadata": {},
   "outputs": [
    {
     "data": {
      "text/plain": [
       "Index(['id', 'price', 'weekly_price', 'monthly_price', 'accommodates',\n",
       "       'bedrooms', 'beds', 'city', 'state', 'neighbourhood', 'latitude',\n",
       "       'longitude', 'minimum_nights', 'maximum_nights'],\n",
       "      dtype='object')"
      ]
     },
     "execution_count": 7,
     "metadata": {},
     "output_type": "execute_result"
    }
   ],
   "source": [
    "listings_filters.columns"
   ]
  },
  {
   "cell_type": "code",
   "execution_count": 8,
   "metadata": {},
   "outputs": [
    {
     "data": {
      "text/plain": [
       "['price', 'weekly_price', 'monthly_price']"
      ]
     },
     "execution_count": 8,
     "metadata": {},
     "output_type": "execute_result"
    }
   ],
   "source": [
    "PRICE_COLS = [col for col in listings_filters.columns if re.search('price', col)]\n",
    "PRICE_COLS"
   ]
  },
  {
   "cell_type": "code",
   "execution_count": 9,
   "metadata": {},
   "outputs": [
    {
     "data": {
      "text/html": [
       "<div>\n",
       "<style scoped>\n",
       "    .dataframe tbody tr th:only-of-type {\n",
       "        vertical-align: middle;\n",
       "    }\n",
       "\n",
       "    .dataframe tbody tr th {\n",
       "        vertical-align: top;\n",
       "    }\n",
       "\n",
       "    .dataframe thead th {\n",
       "        text-align: right;\n",
       "    }\n",
       "</style>\n",
       "<table border=\"1\" class=\"dataframe\">\n",
       "  <thead>\n",
       "    <tr style=\"text-align: right;\">\n",
       "      <th></th>\n",
       "      <th>price</th>\n",
       "      <th>weekly_price</th>\n",
       "      <th>monthly_price</th>\n",
       "    </tr>\n",
       "  </thead>\n",
       "  <tbody>\n",
       "    <tr>\n",
       "      <th>0</th>\n",
       "      <td>$59.00</td>\n",
       "      <td>$720.00</td>\n",
       "      <td>$1,690.00</td>\n",
       "    </tr>\n",
       "    <tr>\n",
       "      <th>1</th>\n",
       "      <td>$149.00</td>\n",
       "      <td>$299.00</td>\n",
       "      <td>$999.00</td>\n",
       "    </tr>\n",
       "    <tr>\n",
       "      <th>2</th>\n",
       "      <td>$225.00</td>\n",
       "      <td>$1,995.00</td>\n",
       "      <td>NaN</td>\n",
       "    </tr>\n",
       "    <tr>\n",
       "      <th>3</th>\n",
       "      <td>$70.00</td>\n",
       "      <td>$650.00</td>\n",
       "      <td>$1,900.00</td>\n",
       "    </tr>\n",
       "    <tr>\n",
       "      <th>4</th>\n",
       "      <td>$150.00</td>\n",
       "      <td>NaN</td>\n",
       "      <td>NaN</td>\n",
       "    </tr>\n",
       "  </tbody>\n",
       "</table>\n",
       "</div>"
      ],
      "text/plain": [
       "     price weekly_price monthly_price\n",
       "0   $59.00      $720.00     $1,690.00\n",
       "1  $149.00      $299.00       $999.00\n",
       "2  $225.00    $1,995.00           NaN\n",
       "3   $70.00      $650.00     $1,900.00\n",
       "4  $150.00          NaN           NaN"
      ]
     },
     "execution_count": 9,
     "metadata": {},
     "output_type": "execute_result"
    }
   ],
   "source": [
    "listings_filters[PRICE_COLS].head()"
   ]
  },
  {
   "cell_type": "code",
   "execution_count": 10,
   "metadata": {},
   "outputs": [
    {
     "name": "stderr",
     "output_type": "stream",
     "text": [
      "/Users/ChentianJiang/miniconda3/envs/airbnb-rec/lib/python3.7/site-packages/ipykernel_launcher.py:5: SettingWithCopyWarning: \n",
      "A value is trying to be set on a copy of a slice from a DataFrame.\n",
      "Try using .loc[row_indexer,col_indexer] = value instead\n",
      "\n",
      "See the caveats in the documentation: http://pandas.pydata.org/pandas-docs/stable/indexing.html#indexing-view-versus-copy\n",
      "  \"\"\"\n",
      "/Users/ChentianJiang/miniconda3/envs/airbnb-rec/lib/python3.7/site-packages/ipykernel_launcher.py:8: SettingWithCopyWarning: \n",
      "A value is trying to be set on a copy of a slice from a DataFrame.\n",
      "Try using .loc[row_indexer,col_indexer] = value instead\n",
      "\n",
      "See the caveats in the documentation: http://pandas.pydata.org/pandas-docs/stable/indexing.html#indexing-view-versus-copy\n",
      "  \n"
     ]
    }
   ],
   "source": [
    "# convert prices (object type) to numeric type\n",
    "\n",
    "for col in PRICE_COLS:\n",
    "    # get rid of commas in price\n",
    "    listings_filters[col] = listings_filters[col].str.replace(',', '')\n",
    "\n",
    "    # remove preceding dollar sign then convert to numeric type\n",
    "    listings_filters[col] = pd.to_numeric(listings_filters[col].str[1:])"
   ]
  },
  {
   "cell_type": "code",
   "execution_count": 11,
   "metadata": {},
   "outputs": [
    {
     "data": {
      "text/plain": [
       "dict_keys([dtype('int64'), dtype('float64'), dtype('O')])"
      ]
     },
     "execution_count": 11,
     "metadata": {},
     "output_type": "execute_result"
    }
   ],
   "source": [
    "# separate out the different *types* of columns\n",
    "listings_filters_type_dict = listings_filters.columns.to_series().groupby(listings_filters.dtypes).groups\n",
    "listings_filters_type_dict.keys()"
   ]
  },
  {
   "cell_type": "code",
   "execution_count": 12,
   "metadata": {},
   "outputs": [
    {
     "data": {
      "text/plain": [
       "{dtype('int64'): Index(['id', 'accommodates', 'minimum_nights', 'maximum_nights'], dtype='object'),\n",
       " dtype('float64'): Index(['price', 'weekly_price', 'monthly_price', 'bedrooms', 'beds',\n",
       "        'latitude', 'longitude'],\n",
       "       dtype='object'),\n",
       " dtype('O'): Index(['city', 'state', 'neighbourhood'], dtype='object')}"
      ]
     },
     "execution_count": 12,
     "metadata": {},
     "output_type": "execute_result"
    }
   ],
   "source": [
    "listings_filters_type_dict"
   ]
  },
  {
   "cell_type": "code",
   "execution_count": 13,
   "metadata": {
    "collapsed": true
   },
   "outputs": [],
   "source": [
    "def create_data_dict(data_df, type_dict):\n",
    "    int_data = data_df[type_dict[np.dtype('int')]]\n",
    "    float_data = data_df[type_dict[np.dtype('float')]]\n",
    "    num_data = pd.concat([int_data, float_data], axis=1)\n",
    "    \n",
    "    cat_data = data_df[type_dict[np.dtype('object')]]\n",
    "    return {'num': num_data, 'cat':cat_data}"
   ]
  },
  {
   "cell_type": "code",
   "execution_count": 14,
   "metadata": {},
   "outputs": [
    {
     "data": {
      "text/plain": [
       "((50914, 11), (50914, 3))"
      ]
     },
     "execution_count": 14,
     "metadata": {},
     "output_type": "execute_result"
    }
   ],
   "source": [
    "listings_filters_dict = create_data_dict(listings_filters, listings_filters_type_dict)\n",
    "\n",
    "listings_filters_dict['num'].shape, listings_filters_dict['cat'].shape"
   ]
  },
  {
   "cell_type": "code",
   "execution_count": 15,
   "metadata": {},
   "outputs": [
    {
     "data": {
      "text/html": [
       "<div>\n",
       "<style scoped>\n",
       "    .dataframe tbody tr th:only-of-type {\n",
       "        vertical-align: middle;\n",
       "    }\n",
       "\n",
       "    .dataframe tbody tr th {\n",
       "        vertical-align: top;\n",
       "    }\n",
       "\n",
       "    .dataframe thead th {\n",
       "        text-align: right;\n",
       "    }\n",
       "</style>\n",
       "<table border=\"1\" class=\"dataframe\">\n",
       "  <thead>\n",
       "    <tr style=\"text-align: right;\">\n",
       "      <th></th>\n",
       "      <th>id</th>\n",
       "      <th>accommodates</th>\n",
       "      <th>minimum_nights</th>\n",
       "      <th>maximum_nights</th>\n",
       "      <th>price</th>\n",
       "      <th>weekly_price</th>\n",
       "      <th>monthly_price</th>\n",
       "      <th>bedrooms</th>\n",
       "      <th>beds</th>\n",
       "      <th>latitude</th>\n",
       "      <th>longitude</th>\n",
       "    </tr>\n",
       "  </thead>\n",
       "  <tbody>\n",
       "    <tr>\n",
       "      <th>0</th>\n",
       "      <td>2515</td>\n",
       "      <td>3</td>\n",
       "      <td>2</td>\n",
       "      <td>21</td>\n",
       "      <td>59.0</td>\n",
       "      <td>720.0</td>\n",
       "      <td>1690.0</td>\n",
       "      <td>1.0</td>\n",
       "      <td>2.0</td>\n",
       "      <td>40.799205</td>\n",
       "      <td>-73.953676</td>\n",
       "    </tr>\n",
       "    <tr>\n",
       "      <th>1</th>\n",
       "      <td>2539</td>\n",
       "      <td>4</td>\n",
       "      <td>1</td>\n",
       "      <td>730</td>\n",
       "      <td>149.0</td>\n",
       "      <td>299.0</td>\n",
       "      <td>999.0</td>\n",
       "      <td>1.0</td>\n",
       "      <td>3.0</td>\n",
       "      <td>40.647486</td>\n",
       "      <td>-73.972370</td>\n",
       "    </tr>\n",
       "    <tr>\n",
       "      <th>2</th>\n",
       "      <td>2595</td>\n",
       "      <td>2</td>\n",
       "      <td>1</td>\n",
       "      <td>1125</td>\n",
       "      <td>225.0</td>\n",
       "      <td>1995.0</td>\n",
       "      <td>NaN</td>\n",
       "      <td>0.0</td>\n",
       "      <td>1.0</td>\n",
       "      <td>40.753621</td>\n",
       "      <td>-73.983774</td>\n",
       "    </tr>\n",
       "    <tr>\n",
       "      <th>3</th>\n",
       "      <td>3330</td>\n",
       "      <td>2</td>\n",
       "      <td>5</td>\n",
       "      <td>730</td>\n",
       "      <td>70.0</td>\n",
       "      <td>650.0</td>\n",
       "      <td>1900.0</td>\n",
       "      <td>1.0</td>\n",
       "      <td>1.0</td>\n",
       "      <td>40.708558</td>\n",
       "      <td>-73.942362</td>\n",
       "    </tr>\n",
       "    <tr>\n",
       "      <th>4</th>\n",
       "      <td>3647</td>\n",
       "      <td>2</td>\n",
       "      <td>3</td>\n",
       "      <td>7</td>\n",
       "      <td>150.0</td>\n",
       "      <td>NaN</td>\n",
       "      <td>NaN</td>\n",
       "      <td>1.0</td>\n",
       "      <td>1.0</td>\n",
       "      <td>40.809018</td>\n",
       "      <td>-73.941902</td>\n",
       "    </tr>\n",
       "  </tbody>\n",
       "</table>\n",
       "</div>"
      ],
      "text/plain": [
       "     id  accommodates  minimum_nights  maximum_nights  price  weekly_price  \\\n",
       "0  2515             3               2              21   59.0         720.0   \n",
       "1  2539             4               1             730  149.0         299.0   \n",
       "2  2595             2               1            1125  225.0        1995.0   \n",
       "3  3330             2               5             730   70.0         650.0   \n",
       "4  3647             2               3               7  150.0           NaN   \n",
       "\n",
       "   monthly_price  bedrooms  beds   latitude  longitude  \n",
       "0         1690.0       1.0   2.0  40.799205 -73.953676  \n",
       "1          999.0       1.0   3.0  40.647486 -73.972370  \n",
       "2            NaN       0.0   1.0  40.753621 -73.983774  \n",
       "3         1900.0       1.0   1.0  40.708558 -73.942362  \n",
       "4            NaN       1.0   1.0  40.809018 -73.941902  "
      ]
     },
     "execution_count": 15,
     "metadata": {},
     "output_type": "execute_result"
    }
   ],
   "source": [
    "listings_filters_dict['num'].head()"
   ]
  },
  {
   "cell_type": "code",
   "execution_count": 16,
   "metadata": {},
   "outputs": [
    {
     "name": "stderr",
     "output_type": "stream",
     "text": [
      "/Users/ChentianJiang/miniconda3/envs/airbnb-rec/lib/python3.7/site-packages/ipykernel_launcher.py:4: SettingWithCopyWarning: \n",
      "A value is trying to be set on a copy of a slice from a DataFrame.\n",
      "Try using .loc[row_indexer,col_indexer] = value instead\n",
      "\n",
      "See the caveats in the documentation: http://pandas.pydata.org/pandas-docs/stable/indexing.html#indexing-view-versus-copy\n",
      "  after removing the cwd from sys.path.\n",
      "/Users/ChentianJiang/miniconda3/envs/airbnb-rec/lib/python3.7/site-packages/ipykernel_launcher.py:5: SettingWithCopyWarning: \n",
      "A value is trying to be set on a copy of a slice from a DataFrame.\n",
      "Try using .loc[row_indexer,col_indexer] = value instead\n",
      "\n",
      "See the caveats in the documentation: http://pandas.pydata.org/pandas-docs/stable/indexing.html#indexing-view-versus-copy\n",
      "  \"\"\"\n"
     ]
    }
   ],
   "source": [
    "# strip whitespace from categorical columns and convert everything to uppercase\n",
    "# to avoid duplicates as a result of spacing/case\n",
    "for col in listings_filters_dict['cat'].columns:\n",
    "    listings_filters_dict['cat'][col] = listings_filters_dict['cat'][col].str.strip()\n",
    "    listings_filters_dict['cat'][col] = listings_filters_dict['cat'][col].str.upper()"
   ]
  },
  {
   "cell_type": "code",
   "execution_count": 17,
   "metadata": {},
   "outputs": [
    {
     "data": {
      "text/html": [
       "<div>\n",
       "<style scoped>\n",
       "    .dataframe tbody tr th:only-of-type {\n",
       "        vertical-align: middle;\n",
       "    }\n",
       "\n",
       "    .dataframe tbody tr th {\n",
       "        vertical-align: top;\n",
       "    }\n",
       "\n",
       "    .dataframe thead th {\n",
       "        text-align: right;\n",
       "    }\n",
       "</style>\n",
       "<table border=\"1\" class=\"dataframe\">\n",
       "  <thead>\n",
       "    <tr style=\"text-align: right;\">\n",
       "      <th></th>\n",
       "      <th>city</th>\n",
       "      <th>state</th>\n",
       "      <th>neighbourhood</th>\n",
       "    </tr>\n",
       "  </thead>\n",
       "  <tbody>\n",
       "    <tr>\n",
       "      <th>0</th>\n",
       "      <td>NEW YORK</td>\n",
       "      <td>NY</td>\n",
       "      <td>HARLEM</td>\n",
       "    </tr>\n",
       "    <tr>\n",
       "      <th>1</th>\n",
       "      <td>BROOKLYN</td>\n",
       "      <td>NY</td>\n",
       "      <td>KENSINGTON</td>\n",
       "    </tr>\n",
       "    <tr>\n",
       "      <th>2</th>\n",
       "      <td>NEW YORK</td>\n",
       "      <td>NY</td>\n",
       "      <td>MIDTOWN</td>\n",
       "    </tr>\n",
       "    <tr>\n",
       "      <th>3</th>\n",
       "      <td>BROOKLYN</td>\n",
       "      <td>NY</td>\n",
       "      <td>WILLIAMSBURG</td>\n",
       "    </tr>\n",
       "    <tr>\n",
       "      <th>4</th>\n",
       "      <td>NEW YORK</td>\n",
       "      <td>NY</td>\n",
       "      <td>HARLEM</td>\n",
       "    </tr>\n",
       "  </tbody>\n",
       "</table>\n",
       "</div>"
      ],
      "text/plain": [
       "       city state neighbourhood\n",
       "0  NEW YORK    NY        HARLEM\n",
       "1  BROOKLYN    NY    KENSINGTON\n",
       "2  NEW YORK    NY       MIDTOWN\n",
       "3  BROOKLYN    NY  WILLIAMSBURG\n",
       "4  NEW YORK    NY        HARLEM"
      ]
     },
     "execution_count": 17,
     "metadata": {},
     "output_type": "execute_result"
    }
   ],
   "source": [
    "listings_filters_dict['cat'].head()"
   ]
  },
  {
   "cell_type": "code",
   "execution_count": 18,
   "metadata": {
    "collapsed": true
   },
   "outputs": [],
   "source": [
    "# put together numerical and categorical columns --> save\n",
    "listings_filters_cleaned = pd.concat([listings_filters_dict['num'], listings_filters_dict['cat']], axis=1)\n",
    "pickle.dump(listings_filters_cleaned, open(\"airbnb_listings_filters_cleaned.pickle\", \"wb\"))"
   ]
  },
  {
   "cell_type": "code",
   "execution_count": 19,
   "metadata": {},
   "outputs": [
    {
     "data": {
      "text/plain": [
       "(50914, 402)"
      ]
     },
     "execution_count": 19,
     "metadata": {},
     "output_type": "execute_result"
    }
   ],
   "source": [
    "# one-hot encode categorical features\n",
    "listings_filters_dict['cat'] = pd.get_dummies(listings_filters_dict['cat']) # this also encodes NaN/Null/NA etc. as its own category\n",
    "listings_filters_dict['cat'].shape"
   ]
  },
  {
   "cell_type": "code",
   "execution_count": 20,
   "metadata": {},
   "outputs": [
    {
     "data": {
      "text/html": [
       "<div>\n",
       "<style scoped>\n",
       "    .dataframe tbody tr th:only-of-type {\n",
       "        vertical-align: middle;\n",
       "    }\n",
       "\n",
       "    .dataframe tbody tr th {\n",
       "        vertical-align: top;\n",
       "    }\n",
       "\n",
       "    .dataframe thead th {\n",
       "        text-align: right;\n",
       "    }\n",
       "</style>\n",
       "<table border=\"1\" class=\"dataframe\">\n",
       "  <thead>\n",
       "    <tr style=\"text-align: right;\">\n",
       "      <th></th>\n",
       "      <th>city_8425 ELMHURST AVENUE</th>\n",
       "      <th>city_ARVERNE</th>\n",
       "      <th>city_ASTORIA</th>\n",
       "      <th>city_ASTORIA - NEW YORK</th>\n",
       "      <th>city_ASTORIA NEW YORK</th>\n",
       "      <th>city_ASTORIA QUEENS</th>\n",
       "      <th>city_ASTORIA, NEW YORK</th>\n",
       "      <th>city_ASTORIA, NYC</th>\n",
       "      <th>city_ASTORIA, QUEENS</th>\n",
       "      <th>city_ASTORIA,NEW YORK</th>\n",
       "      <th>...</th>\n",
       "      <th>neighbourhood_WESTCHESTER VILLAGE</th>\n",
       "      <th>neighbourhood_WESTERLEIGH</th>\n",
       "      <th>neighbourhood_WHITESTONE</th>\n",
       "      <th>neighbourhood_WILLIAMSBRIDGE</th>\n",
       "      <th>neighbourhood_WILLIAMSBURG</th>\n",
       "      <th>neighbourhood_WILLOWBROOK</th>\n",
       "      <th>neighbourhood_WINDSOR TERRACE</th>\n",
       "      <th>neighbourhood_WOODHAVEN</th>\n",
       "      <th>neighbourhood_WOODLAWN</th>\n",
       "      <th>neighbourhood_WOODSIDE</th>\n",
       "    </tr>\n",
       "  </thead>\n",
       "  <tbody>\n",
       "    <tr>\n",
       "      <th>0</th>\n",
       "      <td>0</td>\n",
       "      <td>0</td>\n",
       "      <td>0</td>\n",
       "      <td>0</td>\n",
       "      <td>0</td>\n",
       "      <td>0</td>\n",
       "      <td>0</td>\n",
       "      <td>0</td>\n",
       "      <td>0</td>\n",
       "      <td>0</td>\n",
       "      <td>...</td>\n",
       "      <td>0</td>\n",
       "      <td>0</td>\n",
       "      <td>0</td>\n",
       "      <td>0</td>\n",
       "      <td>0</td>\n",
       "      <td>0</td>\n",
       "      <td>0</td>\n",
       "      <td>0</td>\n",
       "      <td>0</td>\n",
       "      <td>0</td>\n",
       "    </tr>\n",
       "    <tr>\n",
       "      <th>1</th>\n",
       "      <td>0</td>\n",
       "      <td>0</td>\n",
       "      <td>0</td>\n",
       "      <td>0</td>\n",
       "      <td>0</td>\n",
       "      <td>0</td>\n",
       "      <td>0</td>\n",
       "      <td>0</td>\n",
       "      <td>0</td>\n",
       "      <td>0</td>\n",
       "      <td>...</td>\n",
       "      <td>0</td>\n",
       "      <td>0</td>\n",
       "      <td>0</td>\n",
       "      <td>0</td>\n",
       "      <td>0</td>\n",
       "      <td>0</td>\n",
       "      <td>0</td>\n",
       "      <td>0</td>\n",
       "      <td>0</td>\n",
       "      <td>0</td>\n",
       "    </tr>\n",
       "    <tr>\n",
       "      <th>2</th>\n",
       "      <td>0</td>\n",
       "      <td>0</td>\n",
       "      <td>0</td>\n",
       "      <td>0</td>\n",
       "      <td>0</td>\n",
       "      <td>0</td>\n",
       "      <td>0</td>\n",
       "      <td>0</td>\n",
       "      <td>0</td>\n",
       "      <td>0</td>\n",
       "      <td>...</td>\n",
       "      <td>0</td>\n",
       "      <td>0</td>\n",
       "      <td>0</td>\n",
       "      <td>0</td>\n",
       "      <td>0</td>\n",
       "      <td>0</td>\n",
       "      <td>0</td>\n",
       "      <td>0</td>\n",
       "      <td>0</td>\n",
       "      <td>0</td>\n",
       "    </tr>\n",
       "    <tr>\n",
       "      <th>3</th>\n",
       "      <td>0</td>\n",
       "      <td>0</td>\n",
       "      <td>0</td>\n",
       "      <td>0</td>\n",
       "      <td>0</td>\n",
       "      <td>0</td>\n",
       "      <td>0</td>\n",
       "      <td>0</td>\n",
       "      <td>0</td>\n",
       "      <td>0</td>\n",
       "      <td>...</td>\n",
       "      <td>0</td>\n",
       "      <td>0</td>\n",
       "      <td>0</td>\n",
       "      <td>0</td>\n",
       "      <td>1</td>\n",
       "      <td>0</td>\n",
       "      <td>0</td>\n",
       "      <td>0</td>\n",
       "      <td>0</td>\n",
       "      <td>0</td>\n",
       "    </tr>\n",
       "    <tr>\n",
       "      <th>4</th>\n",
       "      <td>0</td>\n",
       "      <td>0</td>\n",
       "      <td>0</td>\n",
       "      <td>0</td>\n",
       "      <td>0</td>\n",
       "      <td>0</td>\n",
       "      <td>0</td>\n",
       "      <td>0</td>\n",
       "      <td>0</td>\n",
       "      <td>0</td>\n",
       "      <td>...</td>\n",
       "      <td>0</td>\n",
       "      <td>0</td>\n",
       "      <td>0</td>\n",
       "      <td>0</td>\n",
       "      <td>0</td>\n",
       "      <td>0</td>\n",
       "      <td>0</td>\n",
       "      <td>0</td>\n",
       "      <td>0</td>\n",
       "      <td>0</td>\n",
       "    </tr>\n",
       "  </tbody>\n",
       "</table>\n",
       "<p>5 rows × 402 columns</p>\n",
       "</div>"
      ],
      "text/plain": [
       "   city_8425 ELMHURST AVENUE  city_ARVERNE  city_ASTORIA  \\\n",
       "0                          0             0             0   \n",
       "1                          0             0             0   \n",
       "2                          0             0             0   \n",
       "3                          0             0             0   \n",
       "4                          0             0             0   \n",
       "\n",
       "   city_ASTORIA - NEW YORK  city_ASTORIA NEW YORK  city_ASTORIA QUEENS  \\\n",
       "0                        0                      0                    0   \n",
       "1                        0                      0                    0   \n",
       "2                        0                      0                    0   \n",
       "3                        0                      0                    0   \n",
       "4                        0                      0                    0   \n",
       "\n",
       "   city_ASTORIA, NEW YORK  city_ASTORIA, NYC  city_ASTORIA, QUEENS  \\\n",
       "0                       0                  0                     0   \n",
       "1                       0                  0                     0   \n",
       "2                       0                  0                     0   \n",
       "3                       0                  0                     0   \n",
       "4                       0                  0                     0   \n",
       "\n",
       "   city_ASTORIA,NEW YORK           ...            \\\n",
       "0                      0           ...             \n",
       "1                      0           ...             \n",
       "2                      0           ...             \n",
       "3                      0           ...             \n",
       "4                      0           ...             \n",
       "\n",
       "   neighbourhood_WESTCHESTER VILLAGE  neighbourhood_WESTERLEIGH  \\\n",
       "0                                  0                          0   \n",
       "1                                  0                          0   \n",
       "2                                  0                          0   \n",
       "3                                  0                          0   \n",
       "4                                  0                          0   \n",
       "\n",
       "   neighbourhood_WHITESTONE  neighbourhood_WILLIAMSBRIDGE  \\\n",
       "0                         0                             0   \n",
       "1                         0                             0   \n",
       "2                         0                             0   \n",
       "3                         0                             0   \n",
       "4                         0                             0   \n",
       "\n",
       "   neighbourhood_WILLIAMSBURG  neighbourhood_WILLOWBROOK  \\\n",
       "0                           0                          0   \n",
       "1                           0                          0   \n",
       "2                           0                          0   \n",
       "3                           1                          0   \n",
       "4                           0                          0   \n",
       "\n",
       "   neighbourhood_WINDSOR TERRACE  neighbourhood_WOODHAVEN  \\\n",
       "0                              0                        0   \n",
       "1                              0                        0   \n",
       "2                              0                        0   \n",
       "3                              0                        0   \n",
       "4                              0                        0   \n",
       "\n",
       "   neighbourhood_WOODLAWN  neighbourhood_WOODSIDE  \n",
       "0                       0                       0  \n",
       "1                       0                       0  \n",
       "2                       0                       0  \n",
       "3                       0                       0  \n",
       "4                       0                       0  \n",
       "\n",
       "[5 rows x 402 columns]"
      ]
     },
     "execution_count": 20,
     "metadata": {},
     "output_type": "execute_result"
    }
   ],
   "source": [
    "listings_filters_dict['cat'].head()"
   ]
  },
  {
   "cell_type": "code",
   "execution_count": 21,
   "metadata": {
    "collapsed": true
   },
   "outputs": [],
   "source": [
    "# put together numerical and ENCODED categorical columns --> save\n",
    "listings_filters_cleaned_encoded = pd.concat([listings_filters_dict['num'], listings_filters_dict['cat']], axis=1)\n",
    "pickle.dump(listings_filters_cleaned_encoded, open(\"airbnb_listings_filters_cleaned_encoded.pickle\", \"wb\"))"
   ]
  },
  {
   "cell_type": "markdown",
   "metadata": {},
   "source": [
    "## Preprocess the Calendar Dataset"
   ]
  },
  {
   "cell_type": "code",
   "execution_count": 22,
   "metadata": {},
   "outputs": [
    {
     "data": {
      "text/plain": [
       "(18582150, 4)"
      ]
     },
     "execution_count": 22,
     "metadata": {},
     "output_type": "execute_result"
    }
   ],
   "source": [
    "calendar = pd.read_csv('data/calendar.csv')\n",
    "\n",
    "calendar.shape"
   ]
  },
  {
   "cell_type": "code",
   "execution_count": 23,
   "metadata": {
    "scrolled": true
   },
   "outputs": [
    {
     "data": {
      "text/html": [
       "<div>\n",
       "<style scoped>\n",
       "    .dataframe tbody tr th:only-of-type {\n",
       "        vertical-align: middle;\n",
       "    }\n",
       "\n",
       "    .dataframe tbody tr th {\n",
       "        vertical-align: top;\n",
       "    }\n",
       "\n",
       "    .dataframe thead th {\n",
       "        text-align: right;\n",
       "    }\n",
       "</style>\n",
       "<table border=\"1\" class=\"dataframe\">\n",
       "  <thead>\n",
       "    <tr style=\"text-align: right;\">\n",
       "      <th></th>\n",
       "      <th>listing_id</th>\n",
       "      <th>date</th>\n",
       "      <th>available</th>\n",
       "      <th>price</th>\n",
       "    </tr>\n",
       "  </thead>\n",
       "  <tbody>\n",
       "    <tr>\n",
       "      <th>0</th>\n",
       "      <td>2515</td>\n",
       "      <td>2019-08-06</td>\n",
       "      <td>t</td>\n",
       "      <td>$89.00</td>\n",
       "    </tr>\n",
       "    <tr>\n",
       "      <th>1</th>\n",
       "      <td>2515</td>\n",
       "      <td>2019-08-05</td>\n",
       "      <td>t</td>\n",
       "      <td>$89.00</td>\n",
       "    </tr>\n",
       "    <tr>\n",
       "      <th>2</th>\n",
       "      <td>2515</td>\n",
       "      <td>2019-08-04</td>\n",
       "      <td>t</td>\n",
       "      <td>$89.00</td>\n",
       "    </tr>\n",
       "    <tr>\n",
       "      <th>3</th>\n",
       "      <td>2515</td>\n",
       "      <td>2019-08-03</td>\n",
       "      <td>t</td>\n",
       "      <td>$89.00</td>\n",
       "    </tr>\n",
       "    <tr>\n",
       "      <th>4</th>\n",
       "      <td>2515</td>\n",
       "      <td>2019-08-02</td>\n",
       "      <td>t</td>\n",
       "      <td>$89.00</td>\n",
       "    </tr>\n",
       "  </tbody>\n",
       "</table>\n",
       "</div>"
      ],
      "text/plain": [
       "   listing_id        date available   price\n",
       "0        2515  2019-08-06         t  $89.00\n",
       "1        2515  2019-08-05         t  $89.00\n",
       "2        2515  2019-08-04         t  $89.00\n",
       "3        2515  2019-08-03         t  $89.00\n",
       "4        2515  2019-08-02         t  $89.00"
      ]
     },
     "execution_count": 23,
     "metadata": {},
     "output_type": "execute_result"
    }
   ],
   "source": [
    "calendar.head()"
   ]
  },
  {
   "cell_type": "code",
   "execution_count": 24,
   "metadata": {},
   "outputs": [
    {
     "data": {
      "text/plain": [
       "dtype('<M8[ns]')"
      ]
     },
     "execution_count": 24,
     "metadata": {},
     "output_type": "execute_result"
    }
   ],
   "source": [
    "# convert dates (object type) to datetime type\n",
    "\n",
    "calendar['date'] = pd.to_datetime(calendar['date'], format='%Y-%m-%d')\n",
    "calendar['date'].dtype"
   ]
  },
  {
   "cell_type": "code",
   "execution_count": 25,
   "metadata": {},
   "outputs": [
    {
     "data": {
      "text/plain": [
       "dtype('float64')"
      ]
     },
     "execution_count": 25,
     "metadata": {},
     "output_type": "execute_result"
    }
   ],
   "source": [
    "# convert prices (object type) to numeric type\n",
    "\n",
    "# get rid of commas in price\n",
    "calendar['price'] = calendar['price'].str.replace(',', '')\n",
    "\n",
    "# remove preceding dollar sign then convert to numeric type\n",
    "calendar['price'] = pd.to_numeric(calendar['price'].str[1:])\n",
    "\n",
    "calendar['price'].dtype"
   ]
  },
  {
   "cell_type": "code",
   "execution_count": 26,
   "metadata": {
    "collapsed": true
   },
   "outputs": [],
   "source": [
    "# save\n",
    "pickle.dump(calendar, open(\"airbnb_calendar_cleaned.pickle\", \"wb\"))"
   ]
  }
 ],
 "metadata": {
  "kernelspec": {
   "display_name": "Python (airbnb-rec)",
   "language": "python",
   "name": "airbnb-rec"
  },
  "language_info": {
   "codemirror_mode": {
    "name": "ipython",
    "version": 3
   },
   "file_extension": ".py",
   "mimetype": "text/x-python",
   "name": "python",
   "nbconvert_exporter": "python",
   "pygments_lexer": "ipython3",
   "version": "3.7.1"
  }
 },
 "nbformat": 4,
 "nbformat_minor": 2
}
