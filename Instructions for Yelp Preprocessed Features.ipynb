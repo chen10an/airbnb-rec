{
 "cells": [
  {
   "cell_type": "markdown",
   "metadata": {},
   "source": [
    "# Instructions for Yelp Preprocessed Features"
   ]
  },
  {
   "cell_type": "markdown",
   "metadata": {},
   "source": [
    "After running the notebook \"Yelp Feature Processing\", we get 1 pickle object (written in binary):\n",
    "\n",
    "- yelp_businesses_cleaned.pickle"
   ]
  },
  {
   "cell_type": "code",
   "execution_count": 1,
   "metadata": {
    "collapsed": true
   },
   "outputs": [],
   "source": [
    "import pandas as pd\n",
    "import numpy as np\n",
    "import sklearn\n",
    "import sklearn.preprocessing\n",
    "import re\n",
    "import pickle"
   ]
  },
  {
   "cell_type": "markdown",
   "metadata": {},
   "source": [
    "## Load the Saved Pickle Objects"
   ]
  },
  {
   "cell_type": "code",
   "execution_count": 2,
   "metadata": {
    "collapsed": true
   },
   "outputs": [],
   "source": [
    "# make sure that the pickle objects are in the current directory\n",
    "# note 'rb' for reading binary\n",
    "\n",
    "businesses = pickle.load(open(\"yelp_businesses_cleaned.pickle\", \"rb\"))"
   ]
  },
  {
   "cell_type": "markdown",
   "metadata": {},
   "source": [
    "## Data Description"
   ]
  },
  {
   "cell_type": "markdown",
   "metadata": {},
   "source": [
    "The 0th column is the id (string) of the business.\n",
    "\n",
    "Columns 1-6 (0-indexing) store the following features (in this order):\n",
    "- name (string)\n",
    "- url (string)\n",
    "- price (string, e.g. \"\\$\", \"\\$\\$\", etc.)\n",
    "- rating (float)\n",
    "- coordinates.latitude (float)\n",
    "- coordinates.longitude (float)\n",
    "\n",
    "Starting from column 7, each column encodes whether a business/row belongs to a category. More about the category encoding below."
   ]
  },
  {
   "cell_type": "code",
   "execution_count": 3,
   "metadata": {},
   "outputs": [
    {
     "data": {
      "text/html": [
       "<div>\n",
       "<style scoped>\n",
       "    .dataframe tbody tr th:only-of-type {\n",
       "        vertical-align: middle;\n",
       "    }\n",
       "\n",
       "    .dataframe tbody tr th {\n",
       "        vertical-align: top;\n",
       "    }\n",
       "\n",
       "    .dataframe thead th {\n",
       "        text-align: right;\n",
       "    }\n",
       "</style>\n",
       "<table border=\"1\" class=\"dataframe\">\n",
       "  <thead>\n",
       "    <tr style=\"text-align: right;\">\n",
       "      <th></th>\n",
       "      <th>id</th>\n",
       "      <th>name</th>\n",
       "      <th>url</th>\n",
       "      <th>price</th>\n",
       "      <th>rating</th>\n",
       "      <th>coordinates.latitude</th>\n",
       "      <th>coordinates.longitude</th>\n",
       "      <th>Pubs</th>\n",
       "      <th>Indian</th>\n",
       "      <th>Taiwanese</th>\n",
       "      <th>...</th>\n",
       "      <th>Steakhouses</th>\n",
       "      <th>Tex-Mex</th>\n",
       "      <th>Peruvian</th>\n",
       "      <th>Gluten-Free</th>\n",
       "      <th>Diners</th>\n",
       "      <th>Portuguese</th>\n",
       "      <th>American (New)</th>\n",
       "      <th>Ramen</th>\n",
       "      <th>Szechuan</th>\n",
       "      <th>Shanghainese</th>\n",
       "    </tr>\n",
       "  </thead>\n",
       "  <tbody>\n",
       "    <tr>\n",
       "      <th>0</th>\n",
       "      <td>ETgJqJHV7BW6pIr9Ox74sA</td>\n",
       "      <td>Amélie</td>\n",
       "      <td>https://www.yelp.com/biz/am%C3%A9lie-new-york?...</td>\n",
       "      <td>$$</td>\n",
       "      <td>4.5</td>\n",
       "      <td>40.732700</td>\n",
       "      <td>-73.997660</td>\n",
       "      <td>0</td>\n",
       "      <td>0</td>\n",
       "      <td>0</td>\n",
       "      <td>...</td>\n",
       "      <td>0</td>\n",
       "      <td>0</td>\n",
       "      <td>0</td>\n",
       "      <td>0</td>\n",
       "      <td>0</td>\n",
       "      <td>0</td>\n",
       "      <td>0</td>\n",
       "      <td>0</td>\n",
       "      <td>0</td>\n",
       "      <td>0</td>\n",
       "    </tr>\n",
       "    <tr>\n",
       "      <th>1</th>\n",
       "      <td>UA2M9QFZghe-9th2KwLoWQ</td>\n",
       "      <td>Burger &amp; Lobster</td>\n",
       "      <td>https://www.yelp.com/biz/burger-and-lobster-ne...</td>\n",
       "      <td>$$</td>\n",
       "      <td>4.0</td>\n",
       "      <td>40.740070</td>\n",
       "      <td>-73.993440</td>\n",
       "      <td>0</td>\n",
       "      <td>0</td>\n",
       "      <td>0</td>\n",
       "      <td>...</td>\n",
       "      <td>0</td>\n",
       "      <td>0</td>\n",
       "      <td>0</td>\n",
       "      <td>0</td>\n",
       "      <td>0</td>\n",
       "      <td>0</td>\n",
       "      <td>1</td>\n",
       "      <td>0</td>\n",
       "      <td>0</td>\n",
       "      <td>0</td>\n",
       "    </tr>\n",
       "    <tr>\n",
       "      <th>2</th>\n",
       "      <td>8Oo2AtQEPDfxIOnA8wfXoQ</td>\n",
       "      <td>886</td>\n",
       "      <td>https://www.yelp.com/biz/886-new-york?adjust_c...</td>\n",
       "      <td>$$</td>\n",
       "      <td>4.0</td>\n",
       "      <td>40.728770</td>\n",
       "      <td>-73.988730</td>\n",
       "      <td>0</td>\n",
       "      <td>0</td>\n",
       "      <td>1</td>\n",
       "      <td>...</td>\n",
       "      <td>0</td>\n",
       "      <td>0</td>\n",
       "      <td>0</td>\n",
       "      <td>0</td>\n",
       "      <td>0</td>\n",
       "      <td>0</td>\n",
       "      <td>0</td>\n",
       "      <td>0</td>\n",
       "      <td>0</td>\n",
       "      <td>0</td>\n",
       "    </tr>\n",
       "    <tr>\n",
       "      <th>3</th>\n",
       "      <td>jjJc_CrkB2HodEinB6cWww</td>\n",
       "      <td>LoveMama</td>\n",
       "      <td>https://www.yelp.com/biz/lovemama-new-york?adj...</td>\n",
       "      <td>$$</td>\n",
       "      <td>4.0</td>\n",
       "      <td>40.730386</td>\n",
       "      <td>-73.986061</td>\n",
       "      <td>0</td>\n",
       "      <td>0</td>\n",
       "      <td>0</td>\n",
       "      <td>...</td>\n",
       "      <td>0</td>\n",
       "      <td>0</td>\n",
       "      <td>0</td>\n",
       "      <td>0</td>\n",
       "      <td>0</td>\n",
       "      <td>0</td>\n",
       "      <td>0</td>\n",
       "      <td>0</td>\n",
       "      <td>0</td>\n",
       "      <td>0</td>\n",
       "    </tr>\n",
       "    <tr>\n",
       "      <th>4</th>\n",
       "      <td>CwOAKJdX8AMz5iAoA-ZEuA</td>\n",
       "      <td>Uglyduckling</td>\n",
       "      <td>https://www.yelp.com/biz/uglyduckling-brooklyn...</td>\n",
       "      <td>$$</td>\n",
       "      <td>4.0</td>\n",
       "      <td>40.686023</td>\n",
       "      <td>-73.991302</td>\n",
       "      <td>0</td>\n",
       "      <td>0</td>\n",
       "      <td>0</td>\n",
       "      <td>...</td>\n",
       "      <td>0</td>\n",
       "      <td>0</td>\n",
       "      <td>0</td>\n",
       "      <td>0</td>\n",
       "      <td>0</td>\n",
       "      <td>0</td>\n",
       "      <td>0</td>\n",
       "      <td>0</td>\n",
       "      <td>0</td>\n",
       "      <td>0</td>\n",
       "    </tr>\n",
       "  </tbody>\n",
       "</table>\n",
       "<p>5 rows × 122 columns</p>\n",
       "</div>"
      ],
      "text/plain": [
       "                       id              name  \\\n",
       "0  ETgJqJHV7BW6pIr9Ox74sA            Amélie   \n",
       "1  UA2M9QFZghe-9th2KwLoWQ  Burger & Lobster   \n",
       "2  8Oo2AtQEPDfxIOnA8wfXoQ               886   \n",
       "3  jjJc_CrkB2HodEinB6cWww          LoveMama   \n",
       "4  CwOAKJdX8AMz5iAoA-ZEuA      Uglyduckling   \n",
       "\n",
       "                                                 url price  rating  \\\n",
       "0  https://www.yelp.com/biz/am%C3%A9lie-new-york?...    $$     4.5   \n",
       "1  https://www.yelp.com/biz/burger-and-lobster-ne...    $$     4.0   \n",
       "2  https://www.yelp.com/biz/886-new-york?adjust_c...    $$     4.0   \n",
       "3  https://www.yelp.com/biz/lovemama-new-york?adj...    $$     4.0   \n",
       "4  https://www.yelp.com/biz/uglyduckling-brooklyn...    $$     4.0   \n",
       "\n",
       "   coordinates.latitude  coordinates.longitude  Pubs  Indian  Taiwanese  \\\n",
       "0             40.732700             -73.997660     0       0          0   \n",
       "1             40.740070             -73.993440     0       0          0   \n",
       "2             40.728770             -73.988730     0       0          1   \n",
       "3             40.730386             -73.986061     0       0          0   \n",
       "4             40.686023             -73.991302     0       0          0   \n",
       "\n",
       "       ...       Steakhouses  Tex-Mex  Peruvian  Gluten-Free  Diners  \\\n",
       "0      ...                 0        0         0            0       0   \n",
       "1      ...                 0        0         0            0       0   \n",
       "2      ...                 0        0         0            0       0   \n",
       "3      ...                 0        0         0            0       0   \n",
       "4      ...                 0        0         0            0       0   \n",
       "\n",
       "   Portuguese  American (New)  Ramen  Szechuan  Shanghainese  \n",
       "0           0               0      0         0             0  \n",
       "1           0               1      0         0             0  \n",
       "2           0               0      0         0             0  \n",
       "3           0               0      0         0             0  \n",
       "4           0               0      0         0             0  \n",
       "\n",
       "[5 rows x 122 columns]"
      ]
     },
     "execution_count": 3,
     "metadata": {},
     "output_type": "execute_result"
    }
   ],
   "source": [
    "businesses.head()"
   ]
  },
  {
   "cell_type": "markdown",
   "metadata": {},
   "source": [
    "### Business Categories"
   ]
  },
  {
   "cell_type": "markdown",
   "metadata": {},
   "source": [
    "The possible business categories are listed in the column names from the 7th column to the last column:"
   ]
  },
  {
   "cell_type": "code",
   "execution_count": 4,
   "metadata": {},
   "outputs": [
    {
     "data": {
      "text/plain": [
       "Index(['Pubs', 'Indian', 'Taiwanese', 'Tacos', 'Meat Shops', 'Italian',\n",
       "       'Speakeasies', 'Pasta Shops', 'Wine Bars', 'Barbeque',\n",
       "       ...\n",
       "       'Steakhouses', 'Tex-Mex', 'Peruvian', 'Gluten-Free', 'Diners',\n",
       "       'Portuguese', 'American (New)', 'Ramen', 'Szechuan', 'Shanghainese'],\n",
       "      dtype='object', length=115)"
      ]
     },
     "execution_count": 4,
     "metadata": {},
     "output_type": "execute_result"
    }
   ],
   "source": [
    "businesses.columns[7:]"
   ]
  },
  {
   "cell_type": "markdown",
   "metadata": {},
   "source": [
    "**If a business/row belongs to a category, the value of the category column for that business/row will be set to 1, otherwise this value is set to 0.**\n",
    "\n",
    "A business/restaurant can belong to several categories, e.g. the first business with `Id=ETgJqJHV7BW6pIr9Ox74sA` and `name=Amélie` has the following categories:"
   ]
  },
  {
   "cell_type": "code",
   "execution_count": 5,
   "metadata": {},
   "outputs": [
    {
     "name": "stdout",
     "output_type": "stream",
     "text": [
      "Wine Bars\n",
      "French\n"
     ]
    }
   ],
   "source": [
    "Amelie = businesses[businesses['id'] == 'ETgJqJHV7BW6pIr9Ox74sA'].iloc[0, :]  # pd series object\n",
    "# only 1 business with this id, hence indexing the 0th row/business\n",
    "\n",
    "for category in Amelie.index[7:]:\n",
    "    if Amelie[category] == 1:\n",
    "        print(category)"
   ]
  }
 ],
 "metadata": {
  "kernelspec": {
   "display_name": "Python (airbnb-rec)",
   "language": "python",
   "name": "airbnb-rec"
  },
  "language_info": {
   "codemirror_mode": {
    "name": "ipython",
    "version": 3
   },
   "file_extension": ".py",
   "mimetype": "text/x-python",
   "name": "python",
   "nbconvert_exporter": "python",
   "pygments_lexer": "ipython3",
   "version": "3.7.1"
  }
 },
 "nbformat": 4,
 "nbformat_minor": 2
}
